{
 "cells": [
  {
   "cell_type": "code",
   "execution_count": 1,
   "id": "ac2ff15c",
   "metadata": {},
   "outputs": [],
   "source": [
    "import numpy as np\n",
    "import matplotlib.pyplot as plt \n",
    "import pandas as pd\n",
    "from sklearn.datasets import make_regression"
   ]
  },
  {
   "cell_type": "code",
   "execution_count": 2,
   "id": "5fbaa0cd",
   "metadata": {},
   "outputs": [],
   "source": [
    "x,y=make_regression(n_samples=100,n_features=2,noise=10)\n"
   ]
  },
  {
   "cell_type": "code",
   "execution_count": 3,
   "id": "2a8979a6",
   "metadata": {},
   "outputs": [
    {
     "data": {
      "text/plain": [
       "<matplotlib.collections.PathCollection at 0x18a24579fa0>"
      ]
     },
     "execution_count": 3,
     "metadata": {},
     "output_type": "execute_result"
    },
    {
     "data": {
      "image/png": "[encoded data removed]",
      "text/plain": [
       "<Figure size 432x288 with 1 Axes>"
      ]
     },
     "metadata": {
      "needs_background": "light"
     },
     "output_type": "display_data"
    }
   ],
   "source": [
    "plt.scatter(x[:,0],y)"
   ]
  },
  {
   "cell_type": "code",
   "execution_count": 4,
   "id": "cb1b9274",
   "metadata": {},
   "outputs": [
    {
     "name": "stdout",
     "output_type": "stream",
     "text": [
      "(100, 2)\n"
     ]
    }
   ],
   "source": [
    "print(x.shape)"
   ]
  },
  {
   "cell_type": "code",
   "execution_count": 5,
   "id": "37977882",
   "metadata": {},
   "outputs": [
    {
     "name": "stdout",
     "output_type": "stream",
     "text": [
      "(100,)\n"
     ]
    }
   ],
   "source": [
    "print(y.shape)"
   ]
  },
  {
   "cell_type": "code",
   "execution_count": 6,
   "id": "25b62ffe",
   "metadata": {},
   "outputs": [],
   "source": [
    "y=y.reshape(100,1)"
   ]
  },
  {
   "cell_type": "code",
   "execution_count": 7,
   "id": "63824491",
   "metadata": {},
   "outputs": [
    {
     "data": {
      "text/plain": [
       "(100, 1)"
      ]
     },
     "execution_count": 7,
     "metadata": {},
     "output_type": "execute_result"
    }
   ],
   "source": [
    "y.shape\n"
   ]
  },
  {
   "cell_type": "code",
   "execution_count": 8,
   "id": "1810ef4d",
   "metadata": {},
   "outputs": [],
   "source": [
    "#matrice x"
   ]
  },
  {
   "cell_type": "code",
   "execution_count": 9,
   "id": "8b2997e0",
   "metadata": {},
   "outputs": [],
   "source": [
    "X=np.hstack((x,np.ones((x.shape[0],1))))\n",
    "\n"
   ]
  },
  {
   "cell_type": "code",
   "execution_count": 10,
   "id": "a43cf025",
   "metadata": {},
   "outputs": [
    {
     "data": {
      "text/plain": [
       "array([[-1.95135581],\n",
       "       [-0.83099705],\n",
       "       [-0.83158975]])"
      ]
     },
     "execution_count": 10,
     "metadata": {},
     "output_type": "execute_result"
    }
   ],
   "source": [
    "theta=np.random.randn(3,1)\n",
    "theta"
   ]
  },
  {
   "cell_type": "markdown",
   "id": "31426445",
   "metadata": {},
   "source": [
    "# Modele "
   ]
  },
  {
   "cell_type": "code",
   "execution_count": 11,
   "id": "b8c09556",
   "metadata": {},
   "outputs": [],
   "source": [
    "def modele(x,y):\n",
    "    return x.dot(y)"
   ]
  },
  {
   "cell_type": "code",
   "execution_count": 12,
   "id": "11654828",
   "metadata": {},
   "outputs": [
    {
     "data": {
      "text/plain": [
       "array([[-1.28592143],\n",
       "       [ 1.25026325],\n",
       "       [-1.74946889],\n",
       "       [-0.19598881],\n",
       "       [ 0.07581064],\n",
       "       [-4.13985523],\n",
       "       [-1.17802456],\n",
       "       [ 4.21171161],\n",
       "       [-2.00469511],\n",
       "       [ 1.8348034 ],\n",
       "       [-0.75019982],\n",
       "       [-0.52792441],\n",
       "       [-1.63029914],\n",
       "       [-0.64130474],\n",
       "       [ 1.1727094 ],\n",
       "       [-0.94963868],\n",
       "       [ 2.63639427],\n",
       "       [-0.13569605],\n",
       "       [-0.59491451],\n",
       "       [-1.29360696],\n",
       "       [-2.30361007],\n",
       "       [-2.16624563],\n",
       "       [-0.27956324],\n",
       "       [-5.1515523 ],\n",
       "       [ 0.11161416],\n",
       "       [ 1.40793859],\n",
       "       [-0.01369092],\n",
       "       [ 1.58018183],\n",
       "       [ 3.25819172],\n",
       "       [ 1.56995544],\n",
       "       [-1.53731676],\n",
       "       [-4.45872086],\n",
       "       [-3.15149492],\n",
       "       [ 0.55910443],\n",
       "       [ 1.17409925],\n",
       "       [-2.73946236],\n",
       "       [-0.74907322],\n",
       "       [-3.65937132],\n",
       "       [-0.36301622],\n",
       "       [-0.33251617],\n",
       "       [-0.13974539],\n",
       "       [-1.00807168],\n",
       "       [-0.60846172],\n",
       "       [-3.15622737],\n",
       "       [-1.34757513],\n",
       "       [-1.06812035],\n",
       "       [ 0.46344276],\n",
       "       [-0.08039423],\n",
       "       [-4.6393135 ],\n",
       "       [-2.36020979],\n",
       "       [-2.49621363],\n",
       "       [ 4.26235807],\n",
       "       [ 0.53470386],\n",
       "       [ 3.94612153],\n",
       "       [-1.13302828],\n",
       "       [-3.39576632],\n",
       "       [ 4.54727643],\n",
       "       [-3.48086815],\n",
       "       [ 0.21055688],\n",
       "       [-3.82830162],\n",
       "       [ 0.82403298],\n",
       "       [-1.55726289],\n",
       "       [-0.50555291],\n",
       "       [ 0.67980976],\n",
       "       [-0.75714316],\n",
       "       [-1.85522055],\n",
       "       [-0.53916879],\n",
       "       [-0.12286694],\n",
       "       [-3.18875123],\n",
       "       [ 3.39065504],\n",
       "       [-0.2738068 ],\n",
       "       [ 6.12389435],\n",
       "       [-1.4915198 ],\n",
       "       [-3.66808706],\n",
       "       [-3.36436128],\n",
       "       [-1.00153572],\n",
       "       [-1.63918102],\n",
       "       [-3.03483499],\n",
       "       [-1.71675358],\n",
       "       [-0.06558687],\n",
       "       [ 2.6613619 ],\n",
       "       [ 2.7220251 ],\n",
       "       [-4.42411653],\n",
       "       [-0.85020845],\n",
       "       [ 1.41102654],\n",
       "       [-0.51312389],\n",
       "       [-4.04080026],\n",
       "       [-1.34534542],\n",
       "       [ 1.3285997 ],\n",
       "       [-0.45520291],\n",
       "       [ 1.95700131],\n",
       "       [ 0.55736001],\n",
       "       [-4.19231001],\n",
       "       [-1.01437545],\n",
       "       [ 1.37601213],\n",
       "       [ 1.56033941],\n",
       "       [ 0.0100901 ],\n",
       "       [-0.99485158],\n",
       "       [-1.93359755],\n",
       "       [-1.70027025]])"
      ]
     },
     "execution_count": 12,
     "metadata": {},
     "output_type": "execute_result"
    }
   ],
   "source": [
    "modele(X,theta)"
   ]
  },
  {
   "cell_type": "code",
   "execution_count": 13,
   "id": "9e90fa52",
   "metadata": {},
   "outputs": [
    {
     "data": {
      "text/plain": [
       "<matplotlib.collections.PathCollection at 0x18a245cfee0>"
      ]
     },
     "execution_count": 13,
     "metadata": {},
     "output_type": "execute_result"
    },
    {
     "data": {
      "image/png": "[encoded data removed]",
      "text/plain": [
       "<Figure size 432x288 with 1 Axes>"
      ]
     },
     "metadata": {
      "needs_background": "light"
     },
     "output_type": "display_data"
    }
   ],
   "source": [
    "plt.scatter(x[:,0],modele(X,theta))\n",
    "plt.scatter(x[:,0],y,c='r')"
   ]
  },
  {
   "cell_type": "markdown",
   "id": "c02f8235",
   "metadata": {},
   "source": [
    "# fonction cout"
   ]
  },
  {
   "cell_type": "code",
   "execution_count": 14,
   "id": "51cf7a71",
   "metadata": {},
   "outputs": [],
   "source": [
    "def cost_function(x,y,theta):\n",
    "    m=len(y)\n",
    "    return 1/(2*m)*np.sum((modele(x,theta)-y)**2)"
   ]
  },
  {
   "cell_type": "code",
   "execution_count": 15,
   "id": "573fc546",
   "metadata": {},
   "outputs": [
    {
     "data": {
      "text/plain": [
       "3999.058942378517"
      ]
     },
     "execution_count": 15,
     "metadata": {},
     "output_type": "execute_result"
    }
   ],
   "source": [
    "cost_function(X,y,theta)"
   ]
  },
  {
   "cell_type": "code",
   "execution_count": 16,
   "id": "5e142908",
   "metadata": {},
   "outputs": [],
   "source": [
    "def gradient_descent(theta,x,y,alpha=0.01,k=600):\n",
    "    m=len(y)\n",
    "    cost_history=np.zeros(k)\n",
    "    for i in range(0,k):\n",
    "        theta=theta-alpha*(1/m*x.T.dot((modele(x,theta)-y)))\n",
    "        k+=1\n",
    "        cost_history[i]=cost_function(X,y,theta)\n",
    "    return theta,cost_history\n",
    "        "
   ]
  },
  {
   "cell_type": "code",
   "execution_count": 17,
   "id": "a9bf6062",
   "metadata": {},
   "outputs": [],
   "source": [
    "result_theta,cost = gradient_descent(theta,X,y)"
   ]
  },
  {
   "cell_type": "code",
   "execution_count": 18,
   "id": "357a5ba4",
   "metadata": {},
   "outputs": [
    {
     "data": {
      "text/plain": [
       "array([[58.00631183],\n",
       "       [72.60483053],\n",
       "       [-0.79613239]])"
      ]
     },
     "execution_count": 18,
     "metadata": {},
     "output_type": "execute_result"
    }
   ],
   "source": [
    "result_theta\n"
   ]
  },
  {
   "cell_type": "code",
   "execution_count": 19,
   "id": "ef83f7aa",
   "metadata": {},
   "outputs": [],
   "source": [
    "pre=modele(X,result_theta)\n"
   ]
  },
  {
   "cell_type": "code",
   "execution_count": 20,
   "id": "6fc9a7a2",
   "metadata": {},
   "outputs": [
    {
     "data": {
      "text/plain": [
       "<matplotlib.collections.PathCollection at 0x18a2470fcd0>"
      ]
     },
     "execution_count": 20,
     "metadata": {},
     "output_type": "execute_result"
    },
    {
     "data": {
      "image/png": "[encoded data removed]",
      "text/plain": [
       "<Figure size 432x288 with 1 Axes>"
      ]
     },
     "metadata": {
      "needs_background": "light"
     },
     "output_type": "display_data"
    }
   ],
   "source": [
    "plt.scatter(x[:,0],y)\n",
    "plt.scatter(x[:,0],pre,c='g')"
   ]
  },
  {
   "cell_type": "code",
   "execution_count": 103,
   "id": "95cdc2a0",
   "metadata": {},
   "outputs": [
    {
     "data": {
      "text/plain": [
       "[<matplotlib.lines.Line2D at 0x20ec006b8b0>]"
      ]
     },
     "execution_count": 103,
     "metadata": {},
     "output_type": "execute_result"
    },
    {
     "data": {
      "image/png": "[encoded data removed]",
      "text/plain": [
       "<Figure size 432x288 with 1 Axes>"
      ]
     },
     "metadata": {
      "needs_background": "light"
     },
     "output_type": "display_data"
    }
   ],
   "source": [
    "plt.plot(np.arange(0,600) , cost)"
   ]
  },
  {
   "cell_type": "code",
   "execution_count": 97,
   "id": "a950ac2f",
   "metadata": {},
   "outputs": [],
   "source": [
    "def coef_determination(y,pred):\n",
    "    u=((y-pred)**2).sum()\n",
    "    v=((y-y.mean())**2).sum()\n",
    "    return 1-(u/v)"
   ]
  },
  {
   "cell_type": "code",
   "execution_count": 98,
   "id": "e6aa428d",
   "metadata": {},
   "outputs": [
    {
     "data": {
      "text/plain": [
       "0.9835406555377413"
      ]
     },
     "execution_count": 98,
     "metadata": {},
     "output_type": "execute_result"
    }
   ],
   "source": [
    "coef_determination(y,pre)"
   ]
  },
  {
   "cell_type": "code",
   "execution_count": 139,
   "id": "003f7d9e",
   "metadata": {},
   "outputs": [],
   "source": [
    "def predict(liste):\n",
    "    liste.append(1)\n",
    "    array=np.array(liste).reshape(1,3)\n",
    "    return modele(array,result_theta)\n",
    "     "
   ]
  },
  {
   "cell_type": "code",
   "execution_count": null,
   "id": "9321ab7e",
   "metadata": {},
   "outputs": [],
   "source": []
  },
  {
   "cell_type": "code",
   "execution_count": null,
   "id": "8779119a",
   "metadata": {},
   "outputs": [],
   "source": []
  },
  {
   "cell_type": "code",
   "execution_count": null,
   "id": "a3ec7abf",
   "metadata": {},
   "outputs": [],
   "source": []
  }
 ],
 "metadata": {
  "kernelspec": {
   "display_name": "Python 3 (ipykernel)",
   "language": "python",
   "name": "python3"
  },
  "language_info": {
   "codemirror_mode": {
    "name": "ipython",
    "version": 3
   },
   "file_extension": ".py",
   "mimetype": "text/x-python",
   "name": "python",
   "nbconvert_exporter": "python",
   "pygments_lexer": "ipython3",
   "version": "3.9.12"
  }
 },
 "nbformat": 4,
 "nbformat_minor": 5
}
